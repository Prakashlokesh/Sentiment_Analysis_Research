{
 "cells": [
  {
   "cell_type": "code",
   "execution_count": 1,
   "id": "ba6905e0-a09d-45db-abe2-0d7ce93b402b",
   "metadata": {},
   "outputs": [],
   "source": [
    "import pandas as pd\n",
    "import re\n",
    "\n",
    "file_path = \"/Users/prakashreddy/Documents/Grad_Project/LAPD_Police_Data.xlsx\"  # Change path if needed\n",
    "df = pd.read_excel(file_path)\n",
    "\n",
    "\n",
    "df['Tweet Text'] = df['Tweet Text'].astype(str)\n",
    "\n",
    "\n",
    "def clean_tweet(text):\n",
    "    text = text.lower()\n",
    "    text = re.sub(r'@\\w+', '', text)  # remove mentions\n",
    "    text = re.sub(r'http\\S+|www.\\S+', '', text)  # remove URLs\n",
    "    text = re.sub(r'\\n+', ' ', text)  # replace newlines with space\n",
    "    text = re.sub(r'[^a-z\\s]', '', text)  # remove special chars and numbers\n",
    "    text = re.sub(r'\\s+', ' ', text)  # collapse multiple spaces\n",
    "    return text.strip()\n",
    "\n",
    "df['Cleaned_Text'] = df['Tweet Text'].apply(clean_tweet)\n",
    "\n",
    "\n",
    "df.to_excel(\"/Users/prakashreddy/Documents/Grad_Project/LAPD_Police_Data_Cleaned.xlsx\", index=False)\n"
   ]
  }
 ],
 "metadata": {
  "kernelspec": {
   "display_name": "tweetnlp",
   "language": "python",
   "name": "tweetnlp"
  },
  "language_info": {
   "codemirror_mode": {
    "name": "ipython",
    "version": 3
   },
   "file_extension": ".py",
   "mimetype": "text/x-python",
   "name": "python",
   "nbconvert_exporter": "python",
   "pygments_lexer": "ipython3",
   "version": "3.12.7"
  }
 },
 "nbformat": 4,
 "nbformat_minor": 5
}
